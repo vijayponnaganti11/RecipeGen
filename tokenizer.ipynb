{
  "nbformat": 4,
  "nbformat_minor": 5,
  "metadata": {
    "kernelspec": {
      "display_name": "Python 3",
      "language": "python",
      "name": "python3"
    },
    "language_info": {
      "codemirror_mode": {
        "name": "ipython",
        "version": 3
      },
      "file_extension": ".py",
      "mimetype": "text/x-python",
      "name": "python",
      "nbconvert_exporter": "python",
      "pygments_lexer": "ipython3",
      "version": "3.8.2"
    },
    "colab": {
      "name": "tokenizer.ipynb",
      "provenance": [],
      "collapsed_sections": []
    }
  },
  "cells": [
    {
      "cell_type": "code",
      "metadata": {
        "id": "formal-memorial"
      },
      "source": [
        "# Import statements\n",
        "import pandas as pd\n",
        "import numpy as np\n",
        "import joblib as jb\n",
        "import json\n",
        "import re\n",
        "from sklearn.model_selection import train_test_split\n",
        "import json\n",
        "import tqdm"
      ],
      "id": "formal-memorial",
      "execution_count": null,
      "outputs": []
    },
    {
      "cell_type": "code",
      "metadata": {
        "id": "cross-budapest",
        "outputId": "ade4032e-acfe-4416-e466-fe77130b2bb2"
      },
      "source": [
        "!nvidia-smi"
      ],
      "id": "cross-budapest",
      "execution_count": null,
      "outputs": [
        {
          "output_type": "stream",
          "text": [
            "Tue May  4 06:33:26 2021       \n",
            "+-----------------------------------------------------------------------------+\n",
            "| NVIDIA-SMI 440.100      Driver Version: 440.100      CUDA Version: 10.2     |\n",
            "|-------------------------------+----------------------+----------------------+\n",
            "| GPU  Name        Persistence-M| Bus-Id        Disp.A | Volatile Uncorr. ECC |\n",
            "| Fan  Temp  Perf  Pwr:Usage/Cap|         Memory-Usage | GPU-Util  Compute M. |\n",
            "|===============================+======================+======================|\n",
            "|   0  Tesla V100-PCIE...  Off  | 00000000:5E:00.0 Off |                    0 |\n",
            "| N/A   63C    P0    98W / 250W |  30735MiB / 32510MiB |     19%      Default |\n",
            "+-------------------------------+----------------------+----------------------+\n",
            "|   1  Tesla V100-PCIE...  Off  | 00000000:D8:00.0 Off |                    0 |\n",
            "| N/A   80C    P0    97W / 250W |  15030MiB / 32510MiB |     67%      Default |\n",
            "+-------------------------------+----------------------+----------------------+\n",
            "                                                                               \n",
            "+-----------------------------------------------------------------------------+\n",
            "| Processes:                                                       GPU Memory |\n",
            "|  GPU       PID   Type   Process name                             Usage      |\n",
            "|=============================================================================|\n",
            "|    0     26257      C   python                                     30723MiB |\n",
            "|    1     33432      C   ...20052/anaconda3/envs/deepgpu/bin/python  4143MiB |\n",
            "|    1     34297      C   ...e/koushikb/.conda/envs/tfgpu/bin/python 10875MiB |\n",
            "+-----------------------------------------------------------------------------+\n"
          ],
          "name": "stdout"
        }
      ]
    },
    {
      "cell_type": "code",
      "metadata": {
        "id": "weird-allergy"
      },
      "source": [
        "df_new = jb.load('dataset_df_new.pkl')"
      ],
      "id": "weird-allergy",
      "execution_count": null,
      "outputs": []
    },
    {
      "cell_type": "code",
      "metadata": {
        "id": "sophisticated-residence"
      },
      "source": [
        "train, test = train_test_split(df_new, train_size=0.94, random_state= 2)"
      ],
      "id": "sophisticated-residence",
      "execution_count": null,
      "outputs": []
    },
    {
      "cell_type": "code",
      "metadata": {
        "id": "nonprofit-failure",
        "outputId": "62747937-dc25-4839-ede3-ffb52b95b312"
      },
      "source": [
        "print(train.shape, test.shape)"
      ],
      "id": "nonprofit-failure",
      "execution_count": null,
      "outputs": [
        {
          "output_type": "stream",
          "text": [
            "(38336, 4) (2448, 4)\n"
          ],
          "name": "stdout"
        }
      ]
    },
    {
      "cell_type": "code",
      "metadata": {
        "id": "stock-things"
      },
      "source": [
        "train.reset_index(drop=True, inplace=True)\n",
        "test.reset_index(drop=True, inplace=True)"
      ],
      "id": "stock-things",
      "execution_count": null,
      "outputs": []
    },
    {
      "cell_type": "code",
      "metadata": {
        "id": "directed-conservative",
        "outputId": "2127c634-5af6-4eed-f1e9-562f68295555"
      },
      "source": [
        "train.head()"
      ],
      "id": "directed-conservative",
      "execution_count": null,
      "outputs": [
        {
          "output_type": "execute_result",
          "data": {
            "text/html": [
              "<div>\n",
              "<style scoped>\n",
              "    .dataframe tbody tr th:only-of-type {\n",
              "        vertical-align: middle;\n",
              "    }\n",
              "\n",
              "    .dataframe tbody tr th {\n",
              "        vertical-align: top;\n",
              "    }\n",
              "\n",
              "    .dataframe thead th {\n",
              "        text-align: right;\n",
              "    }\n",
              "</style>\n",
              "<table border=\"1\" class=\"dataframe\">\n",
              "  <thead>\n",
              "    <tr style=\"text-align: right;\">\n",
              "      <th></th>\n",
              "      <th>instructions</th>\n",
              "      <th>ingredients</th>\n",
              "      <th>title</th>\n",
              "      <th>keywords</th>\n",
              "    </tr>\n",
              "  </thead>\n",
              "  <tbody>\n",
              "    <tr>\n",
              "      <th>0</th>\n",
              "      <td>[pre heat oven to 400°f . wash and dry the pot...</td>\n",
              "      <td>[potato, kitchen, ghee, butter, oil, turmeric,...</td>\n",
              "      <td>Indian Spiced Baked Potato Sticks</td>\n",
              "      <td>[baking, chili_powder, chili, oven, baked]</td>\n",
              "    </tr>\n",
              "    <tr>\n",
              "      <th>1</th>\n",
              "      <td>[prepare cilantro oil by pureeing cilantro , c...</td>\n",
              "      <td>[cilantro, oil, canola_oil, honey, lime_juice,...</td>\n",
              "      <td>Pancetta Wrapped Shrimp with Chipotle Vinaigre...</td>\n",
              "      <td>[chipotle_pepper, rice_vinegar, lemon_juice, l...</td>\n",
              "    </tr>\n",
              "    <tr>\n",
              "      <th>2</th>\n",
              "      <td>[preheat oven to 325 , then cook the onions an...</td>\n",
              "      <td>[onions, carrots, butter, tender, brown, salt,...</td>\n",
              "      <td>Casserole-Poached Chicken W- White Wine Tarrag...</td>\n",
              "      <td>[hot_chicken_stock, chicken_broth, white_peppe...</td>\n",
              "    </tr>\n",
              "    <tr>\n",
              "      <th>3</th>\n",
              "      <td>[put the oil and garlic in a saucepan and turn...</td>\n",
              "      <td>[oil, garlic, tomatoes, juices, sauce, salt, p...</td>\n",
              "      <td>Marcella Hazan's Sugo Fresco Di Pomodoro</td>\n",
              "      <td>[garlic, pasta, saucepan, cooked, tomatoes]</td>\n",
              "    </tr>\n",
              "    <tr>\n",
              "      <th>4</th>\n",
              "      <td>[place oven rack in lower third of oven , heat...</td>\n",
              "      <td>[butter, flour, chocolate, tap_water, egg_yolk...</td>\n",
              "      <td>Chocolate Sin</td>\n",
              "      <td>[chocolate_cake, chocolate, baking, cake, oven]</td>\n",
              "    </tr>\n",
              "  </tbody>\n",
              "</table>\n",
              "</div>"
            ],
            "text/plain": [
              "                                        instructions  \\\n",
              "0  [pre heat oven to 400°f . wash and dry the pot...   \n",
              "1  [prepare cilantro oil by pureeing cilantro , c...   \n",
              "2  [preheat oven to 325 , then cook the onions an...   \n",
              "3  [put the oil and garlic in a saucepan and turn...   \n",
              "4  [place oven rack in lower third of oven , heat...   \n",
              "\n",
              "                                         ingredients  \\\n",
              "0  [potato, kitchen, ghee, butter, oil, turmeric,...   \n",
              "1  [cilantro, oil, canola_oil, honey, lime_juice,...   \n",
              "2  [onions, carrots, butter, tender, brown, salt,...   \n",
              "3  [oil, garlic, tomatoes, juices, sauce, salt, p...   \n",
              "4  [butter, flour, chocolate, tap_water, egg_yolk...   \n",
              "\n",
              "                                               title  \\\n",
              "0                  Indian Spiced Baked Potato Sticks   \n",
              "1  Pancetta Wrapped Shrimp with Chipotle Vinaigre...   \n",
              "2  Casserole-Poached Chicken W- White Wine Tarrag...   \n",
              "3           Marcella Hazan's Sugo Fresco Di Pomodoro   \n",
              "4                                      Chocolate Sin   \n",
              "\n",
              "                                            keywords  \n",
              "0         [baking, chili_powder, chili, oven, baked]  \n",
              "1  [chipotle_pepper, rice_vinegar, lemon_juice, l...  \n",
              "2  [hot_chicken_stock, chicken_broth, white_peppe...  \n",
              "3        [garlic, pasta, saucepan, cooked, tomatoes]  \n",
              "4    [chocolate_cake, chocolate, baking, cake, oven]  "
            ]
          },
          "metadata": {
            "tags": []
          },
          "execution_count": 16
        }
      ]
    },
    {
      "cell_type": "code",
      "metadata": {
        "id": "sufficient-strike"
      },
      "source": [
        ""
      ],
      "id": "sufficient-strike",
      "execution_count": null,
      "outputs": []
    },
    {
      "cell_type": "code",
      "metadata": {
        "id": "generic-skirt"
      },
      "source": [
        "# converting the dataset into text data to tokenize \n",
        "def df_to_plaintext_file(input_df, output_file):\n",
        "    print(\"Writing to\", output_file)\n",
        "    with open(output_file, 'w') as f:\n",
        "        for index, row in input_df.iterrows():\n",
        "            \n",
        "            title = row.title\n",
        "            instructions = row.instructions\n",
        "            ingredients = row.ingredients\n",
        "            keyword = row.keywords\n",
        "            if index%10000==0:\n",
        "                print(index)\n",
        "                print(\"ingreds --->\",ingredients)\n",
        "                print(\"keywords --->\",keyword)\n",
        "                \n",
        "                \n",
        "            res = \"<BEGIN_RECIPE> <BEGIN_INPUT> \" + \" <NEXT_INPUT> \".join(keyword) + \" <END_INPUT> <BEGIN_TITLE> \" + \\\n",
        "              title + \"<END_TITLE> <BEGIN_INGREDS> \" + \\\n",
        "              \" <NEXT_INGREDS> \".join(ingredients) + \" <END_INGREDS> <BEGIN_INSTR> \" + \" <NEXT_INSTR> \".join(instructions) + \" <END_INSTR> <END_RECIPE>\"\n",
        "            f.write(\"{}\\n\".format(res))"
      ],
      "id": "generic-skirt",
      "execution_count": null,
      "outputs": []
    },
    {
      "cell_type": "code",
      "metadata": {
        "id": "vertical-cloud",
        "outputId": "994b6d68-da18-4461-c06d-a6d179f0db2e"
      },
      "source": [
        "df_to_plaintext_file(train, 'train_temp.txt')\n",
        "df_to_plaintext_file(test, 'test_temp.txt') "
      ],
      "id": "vertical-cloud",
      "execution_count": null,
      "outputs": [
        {
          "output_type": "stream",
          "text": [
            "Writing to train_temp.txt\n",
            "0\n",
            "ingreds ---> ['potato', 'kitchen', 'ghee', 'butter', 'oil', 'turmeric', 'chili_powder', 'curry', 'leaves', 'salt', 'parchment_paper', 'chips']\n",
            "keywords ---> ['baking', 'chili_powder', 'chili', 'oven', 'baked']\n",
            "10000\n",
            "ingreds ---> ['pastry', 'cream_cheese', 'egg', 'sugar', 'lemon_zest', 'mixture', 'cheese', 'almonds', 'serving']\n",
            "keywords ---> ['cream_cheese', 'cheese', 'baking', 'pastry', 'almonds']\n",
            "20000\n",
            "ingreds ---> ['oil', 'onions', 'garlic', 'tender', 'clam_juice', 'chicken_broth', 'sauce', 'gravy', 'pepper', 'broth', 'clams', 'lemon_juice', 'tabasco', 'salt', 'soup', 'parsley', 'pasta']\n",
            "keywords ---> ['chicken_broth', 'garlic', 'onions', 'lemon_juice', 'pasta']\n",
            "30000\n",
            "ingreds ---> ['beef', 'garlic', 'green_onions', 'green_peppers', 'salsa', 'green_chilies', 'egg', 'noodles', 'water', 'mixture', 'cheese', 'tomatoes', 'chili', 'spaghetti']\n",
            "keywords ---> ['green_chilies', 'green_onions', 'green_peppers', 'chili', 'garlic']\n",
            "Writing to test_temp.txt\n",
            "0\n",
            "ingreds ---> ['butter', 'parchment_paper', 'cocoa_powder', 'water', 'eggs', 'sugar', 'mixture', 'vanilla', 'flour', 'salt', 'egg', 'batter', 'cake', 'marshmallow']\n",
            "keywords ---> ['cocoa_powder', 'cocoa', 'butter', 'cake', 'vanilla']\n"
          ],
          "name": "stdout"
        }
      ]
    },
    {
      "cell_type": "markdown",
      "metadata": {
        "id": "YNqFAVl9EOBn"
      },
      "source": [
        "### Tokenizing the recipes "
      ],
      "id": "YNqFAVl9EOBn"
    },
    {
      "cell_type": "code",
      "metadata": {
        "id": "colonial-incentive",
        "outputId": "8be467ce-b200-441d-8674-5c1cb646d783"
      },
      "source": [
        "from transformers import GPT2Tokenizer\n",
        "import h5py\n",
        "import numpy as np\n",
        "\n",
        "tokenizer = GPT2Tokenizer.from_pretrained(\"gpt2\", do_lower_case=False)\n",
        "special_tokens = {\n",
        "    \"additional_special_tokens\": [\"<BEGIN_RECIPE>\" ,\n",
        "                                \"<BEGIN_INPUT>\" , \n",
        "                                \"<NEXT_INPUT>\",\n",
        "                                \"<END_INPUT>\" ,\n",
        "                                \"<BEGIN_TITLE>\",\n",
        "                                \"<END_TITLE>\" ,\n",
        "                                \"<BEGIN_INGREDS>\" ,\n",
        "                                \"<NEXT_INGREDS>\" ,\n",
        "                                \"<END_INGREDS>\" ,\n",
        "                                \"<BEGIN_INSTR>\" ,\n",
        "                                \"<NEXT_INSTR>\",\n",
        "                                \"<END_INSTR>\" ,\n",
        "                                \"<END_RECIPE>\" \n",
        "    ]\n",
        "}\n",
        "\n",
        "tokenizer.add_special_tokens(special_tokens)\n",
        "\n",
        "end_token_id = tokenizer.convert_tokens_to_ids([\"<END_RECIPE>\"])[0]\n",
        "\n",
        "hf = h5py.File(\"data_temp.h5\", \"w\")\n",
        "for filename in [\"test_temp\", \"train_temp\"]:\n",
        "    out_np = []\n",
        "    data = open(filename+\".txt\", \"r\")\n",
        "    num = 0\n",
        "    rows = 0\n",
        "    last=[]\n",
        "    for line in data:\n",
        "        num+=1\n",
        "        if num%10000 == 0:\n",
        "            print(\"Read \"+str(num)+\" Written: \"+str(rows))\n",
        "\n",
        "        text_tokens = tokenizer.tokenize(line) \n",
        "        # the tokens supported by gpt2 are 1024 for gpt2 medium. so if the recipe is exceeds this length it wont fit in the model and will generate errors. \n",
        "        if len(text_tokens) > 1024: \n",
        "            continue\n",
        "\n",
        "        text_tokens_ids = tokenizer.convert_tokens_to_ids(text_tokens)\n",
        "\n",
        "        if (len(last) + len(text_tokens_ids)) <= 1024:\n",
        "            last+=text_tokens_ids\n",
        "        else:\n",
        "            while len(last) < 1024:\n",
        "                last.append(end_token_id)\n",
        "            out_np.append(last)\n",
        "            last=text_tokens_ids\n",
        "            rows+=1\n",
        "    out_mat = np.matrix(out_np)\n",
        "    print(out_mat.shape)\n",
        "    hf.create_dataset(filename, data=out_mat)\n",
        "hf.close()\n"
      ],
      "id": "colonial-incentive",
      "execution_count": null,
      "outputs": [
        {
          "output_type": "stream",
          "text": [
            "(613, 1024)\n",
            "Read 10000 Written: 2468\n",
            "Read 20000 Written: 4960\n",
            "Read 30000 Written: 7445\n",
            "(9481, 1024)\n"
          ],
          "name": "stdout"
        }
      ]
    },
    {
      "cell_type": "code",
      "metadata": {
        "id": "crude-proportion",
        "outputId": "a82c3c95-76ea-4fac-8b03-a2c6616b30f9"
      },
      "source": [
        "len(tokenizer)"
      ],
      "id": "crude-proportion",
      "execution_count": null,
      "outputs": [
        {
          "output_type": "execute_result",
          "data": {
            "text/plain": [
              "50270"
            ]
          },
          "metadata": {
            "tags": []
          },
          "execution_count": 26
        }
      ]
    }
  ]
}