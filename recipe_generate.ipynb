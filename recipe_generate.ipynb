{
  "nbformat": 4,
  "nbformat_minor": 0,
  "metadata": {
    "accelerator": "GPU",
    "colab": {
      "name": "recipe generate.ipynb",
      "provenance": [],
      "collapsed_sections": [],
      "mount_file_id": "1cSB8pGmFuo7OqZUfkkp-ithRPz9rjt7H",
      "authorship_tag": "ABX9TyNOCYo1FSAQAe0XvQ1UmihH"
    },
    "kernelspec": {
      "display_name": "Python 3",
      "name": "python3"
    },
    "language_info": {
      "name": "python"
    }
  },
  "cells": [
    {
      "cell_type": "code",
      "metadata": {
        "id": "v-wfuklWhVPE"
      },
      "source": [
        "!pip install transformers"
      ],
      "execution_count": null,
      "outputs": []
    },
    {
      "cell_type": "code",
      "metadata": {
        "colab": {
          "base_uri": "https://localhost:8080/"
        },
        "id": "gQGAFbIphRRd",
        "outputId": "175f652a-9959-44f3-893d-09d0090298ab"
      },
      "source": [
        "#  importing the required libraries\n",
        "from tqdm import trange\n",
        "import torch\n",
        "import torch.nn.functional as F\n",
        "import numpy as np\n",
        "import re\n",
        "import os\n",
        "from transformers import  AutoTokenizer,AutoModelWithLMHead\n",
        "from transformers import GPT2LMHeadModel, GPT2Tokenizer\n",
        "\n",
        "print(f\"PyTorch version: {torch.__version__}\")\n",
        "\n",
        "# Model class to load the saved model, can use either of them\n",
        "MODEL_CLASSES = {\n",
        "    'gpt2': (GPT2LMHeadModel, GPT2Tokenizer),\n",
        "}\n",
        "MODEL_CLASSES1 = {\n",
        "    'gpt2': (AutoModelWithLMHead, AutoTokenizer),\n",
        "}\n",
        "\n",
        "\n",
        "# seed values\n",
        "def set_seed(seed):\n",
        "    np.random.seed(seed)\n",
        "    torch.manual_seed(seed)\n",
        "\n",
        "\n",
        "def top_k_top_p_filtering(logits, top_k=0, top_p=0.0, filter_value=-float('Inf')):\n",
        "    \"\"\" Filter a distribution of logits using top-k and/or nucleus (top-p) filtering\n",
        "        Args:\n",
        "            logits: logits distribution shape (vocabulary size)\n",
        "            top_k > 0: keep only top k tokens with highest probability (top-k filtering).\n",
        "            top_p > 0.0: keep the top tokens with cumulative probability >= top_p (nucleus filtering).\n",
        "                Nucleus filtering is described in Holtzman et al. (http://arxiv.org/abs/1904.09751)\n",
        "        From: https://gist.github.com/thomwolf/1a5a29f6962089e871b94cbd09daf317\n",
        "    \"\"\"\n",
        "    assert logits.dim() == 1  # batch size 1 for now - could be updated for more but the code would be less clear\n",
        "    top_k = min(top_k, logits.size(-1))  # Safety check\n",
        "    if top_k > 0:\n",
        "        # Remove all tokens with a probability less than the last token of the top-k\n",
        "        indices_to_remove = logits < torch.topk(logits, top_k)[0][..., -1, None]\n",
        "        logits[indices_to_remove] = filter_value\n",
        "\n",
        "    if top_p > 0.0:\n",
        "        sorted_logits, sorted_indices = torch.sort(logits, descending=True)\n",
        "        cumulative_probs = torch.cumsum(F.softmax(sorted_logits, dim=-1), dim=-1)\n",
        "\n",
        "        # Remove tokens with cumulative probability above the threshold\n",
        "        sorted_indices_to_remove = cumulative_probs > top_p\n",
        "        # Shift the indices to the right to keep also the first token above the threshold\n",
        "        sorted_indices_to_remove[..., 1:] = sorted_indices_to_remove[..., :-1].clone()\n",
        "        sorted_indices_to_remove[..., 0] = 0\n",
        "\n",
        "        indices_to_remove = sorted_indices[sorted_indices_to_remove]\n",
        "        logits[indices_to_remove] = filter_value\n",
        "    return logits\n",
        "\n",
        "\n",
        "def sample_sequence(model, length, context, tokenizer, num_samples=1, temperature=1, top_k=0, top_p=0.0, device):\n",
        "    end_token = tokenizer.convert_tokens_to_ids([\"<END_RECIPE>\"])[0]\n",
        "    context = torch.tensor(context, dtype=torch.long, device=device)\n",
        "    context = context.unsqueeze(0).repeat(num_samples, 1)\n",
        "    generated = context\n",
        "    with torch.no_grad():\n",
        "        for _ in trange(length):\n",
        "            inputs = {'input_ids': generated}\n",
        "            outputs = model(**inputs)  # Note: we could also use 'past' with GPT-2/Transfo-XL/XLNet (cached hidden-states)\n",
        "            next_token_logits = outputs[0][0, -1, :] / temperature\n",
        "            filtered_logits = top_k_top_p_filtering(next_token_logits, top_k=top_k, top_p=top_p)\n",
        "            next_token = torch.multinomial(F.softmax(filtered_logits, dim=-1), num_samples=1)\n",
        "            generated = torch.cat((generated, next_token.unsqueeze(0)), dim=1)\n",
        "            if next_token.item() == end_token:\n",
        "                print('breaking----->>')\n",
        "                break\n",
        "    return generated\n",
        "\n",
        "# global seed\n",
        "set_seed(20)\n",
        "\n",
        "# loadind the trained model\n",
        "\n",
        "model_class, tokenizer_class = MODEL_CLASSES['gpt2']\n",
        "tokenizer = tokenizer_class.from_pretrained('/content/drive/MyDrive/capstone-remoteserver/recipe word/data annotation/outputs/tempt1')\n",
        "model = model_class.from_pretrained('/content/drive/MyDrive/capstone-remoteserver/recipe word/data annotation/outputs/tempt1')\n",
        "model.to(torch.device(\"cuda\" ))\n",
        "model.eval();"
      ],
      "execution_count": null,
      "outputs": [
        {
          "output_type": "stream",
          "text": [
            "PyTorch version: 1.8.1+cu101\n"
          ],
          "name": "stdout"
        }
      ]
    },
    {
      "cell_type": "code",
      "metadata": {
        "id": "I-7ehQlwhXNL"
      },
      "source": [
        "# loading the csv dataset\n",
        "import joblib as jb\n",
        "from sklearn.model_selection import train_test_split\n",
        "\n",
        "df_new = jb.load('/content/drive/MyDrive/capstone-remoteserver/recipe word/data annotation/dataset_df_new.pkl')"
      ],
      "execution_count": null,
      "outputs": []
    },
    {
      "cell_type": "code",
      "metadata": {
        "colab": {
          "base_uri": "https://localhost:8080/",
          "height": 195
        },
        "id": "8A_TbEqwiGHg",
        "outputId": "4bdb0fb9-70d5-422e-e898-9a270b6d095b"
      },
      "source": [
        "df1, df2 = train_test_split(df_new, train_size=0.65, random_state= 2)\n",
        "test1, remaining = train_test_split(df1, train_size=0.01, random_state= 2)\n",
        "test1.reset_index(drop=True, inplace=True)\n",
        "test1.head()\n"
      ],
      "execution_count": null,
      "outputs": [
        {
          "output_type": "execute_result",
          "data": {
            "text/html": [
              "<div>\n",
              "<style scoped>\n",
              "    .dataframe tbody tr th:only-of-type {\n",
              "        vertical-align: middle;\n",
              "    }\n",
              "\n",
              "    .dataframe tbody tr th {\n",
              "        vertical-align: top;\n",
              "    }\n",
              "\n",
              "    .dataframe thead th {\n",
              "        text-align: right;\n",
              "    }\n",
              "</style>\n",
              "<table border=\"1\" class=\"dataframe\">\n",
              "  <thead>\n",
              "    <tr style=\"text-align: right;\">\n",
              "      <th></th>\n",
              "      <th>instructions</th>\n",
              "      <th>ingredients</th>\n",
              "      <th>title</th>\n",
              "      <th>keywords</th>\n",
              "    </tr>\n",
              "  </thead>\n",
              "  <tbody>\n",
              "    <tr>\n",
              "      <th>0</th>\n",
              "      <td>[combine sauce ingredients and set aside . mix...</td>\n",
              "      <td>[sauce, shrimp, cornstarch, oil, cashews, brow...</td>\n",
              "      <td>Shrimp (or Chicken) with Cashew Nuts</td>\n",
              "      <td>[shrimp, green_pepper, chilies, cornstarch, ga...</td>\n",
              "    </tr>\n",
              "    <tr>\n",
              "      <th>1</th>\n",
              "      <td>[dressing , stir together all ingredients . sa...</td>\n",
              "      <td>[salad, greens, olive_oil, salt, tomato, mozza...</td>\n",
              "      <td>Insalate Caprese</td>\n",
              "      <td>[salad, tomato, mozzarella, olive_oil, ingredi...</td>\n",
              "    </tr>\n",
              "    <tr>\n",
              "      <th>2</th>\n",
              "      <td>[place pork belly into a large pot , and cover...</td>\n",
              "      <td>[pork_belly, water, pork, pork_meat, soy_sauce...</td>\n",
              "      <td>Okinawa Shoyu Pork</td>\n",
              "      <td>[pork_meat, pork_belly, soy_sauce, garlic, sau...</td>\n",
              "    </tr>\n",
              "    <tr>\n",
              "      <th>3</th>\n",
              "      <td>[rinse the meat with cool water and pat it dry...</td>\n",
              "      <td>[cool_water, paper_towels, pepper, nonstick_co...</td>\n",
              "      <td>Slow-Cooker Sicilian Pot Roast - Diabetic Frie...</td>\n",
              "      <td>[tomato_paste, nonstick_cooking_spray, pasta, ...</td>\n",
              "    </tr>\n",
              "    <tr>\n",
              "      <th>4</th>\n",
              "      <td>[using a food processor or blender , process a...</td>\n",
              "      <td>[vanilla, wafers, pretzels, sugar, cream_chees...</td>\n",
              "      <td>Margarita Balls II</td>\n",
              "      <td>[cream_cheese, vanilla, margarita_mix, white_s...</td>\n",
              "    </tr>\n",
              "  </tbody>\n",
              "</table>\n",
              "</div>"
            ],
            "text/plain": [
              "                                        instructions  ...                                           keywords\n",
              "0  [combine sauce ingredients and set aside . mix...  ...  [shrimp, green_pepper, chilies, cornstarch, ga...\n",
              "1  [dressing , stir together all ingredients . sa...  ...  [salad, tomato, mozzarella, olive_oil, ingredi...\n",
              "2  [place pork belly into a large pot , and cover...  ...  [pork_meat, pork_belly, soy_sauce, garlic, sau...\n",
              "3  [rinse the meat with cool water and pat it dry...  ...  [tomato_paste, nonstick_cooking_spray, pasta, ...\n",
              "4  [using a food processor or blender , process a...  ...  [cream_cheese, vanilla, margarita_mix, white_s...\n",
              "\n",
              "[5 rows x 4 columns]"
            ]
          },
          "metadata": {
            "tags": []
          },
          "execution_count": 6
        }
      ]
    },
    {
      "cell_type": "code",
      "metadata": {
        "colab": {
          "base_uri": "https://localhost:8080/"
        },
        "id": "tfahIpm_8Q-d",
        "outputId": "2958325f-c79f-41a2-ef6c-acfd39e9ba4d"
      },
      "source": [
        "test1.shape"
      ],
      "execution_count": null,
      "outputs": [
        {
          "output_type": "execute_result",
          "data": {
            "text/plain": [
              "(757, 4)"
            ]
          },
          "metadata": {
            "tags": []
          },
          "execution_count": 8
        }
      ]
    },
    {
      "cell_type": "code",
      "metadata": {
        "colab": {
          "base_uri": "https://localhost:8080/"
        },
        "id": "DYK5UtaoCLd3",
        "outputId": "3ad364f2-9d50-4254-eb17-a6c595f854e7"
      },
      "source": [
        "test1['ingredients'][30]"
      ],
      "execution_count": null,
      "outputs": [
        {
          "output_type": "execute_result",
          "data": {
            "text/plain": [
              "['crust',\n",
              " 'baking_mix',\n",
              " 'garlic_powder',\n",
              " 'pepper',\n",
              " 'hot_water',\n",
              " 'dough',\n",
              " 'hands',\n",
              " 'tomatoes',\n",
              " 'ricotta',\n",
              " 'garlic',\n",
              " 'parmesan',\n",
              " 'ricotta_mixture',\n",
              " 'mozzarella_cheese',\n",
              " 'tomato',\n",
              " 'basil',\n",
              " 'oregano',\n",
              " 'oil',\n",
              " 'water']"
            ]
          },
          "metadata": {
            "tags": []
          },
          "execution_count": 7
        }
      ]
    },
    {
      "cell_type": "code",
      "metadata": {
        "colab": {
          "base_uri": "https://localhost:8080/"
        },
        "id": "Fw-v7tyXCDfs",
        "outputId": "78ed340c-4142-43b8-bd78-de4834305973"
      },
      "source": [
        "# taking input from the user for recipe\n",
        "raw_text = input(\"Comma-separated ingredients, semicolon to close the list >>> \")\n",
        "prepared_input = '<BEGIN_RECIPE> <BEGIN_INPUT> ' + raw_text.replace(',', ' <NEXT_INPUT> ').replace(';', ' <END_INPUT>')\n",
        "context_tokens = tokenizer.encode(prepared_input)\n",
        "\n",
        "out = sample_sequence(\n",
        "    model=model,\n",
        "    context=context_tokens,\n",
        "    tokenizer=tokenizer,\n",
        "    length=768,\n",
        "    temperature=1,\n",
        "    top_k=30,\n",
        "    top_p=1,\n",
        "    device=torch.device(\"cuda\")\n",
        ")\n",
        "out = out[0, len(context_tokens):].tolist()\n",
        "text = tokenizer.decode(out, clean_up_tokenization_spaces=True)\n",
        "if \"<END_RECIPE>\" not in text:\n",
        "    print(text)\n",
        "    print(\"Failed to generate, recipe's too long\")\n",
        "# salt, chicken, beef, milk, water, garlic, onion, vinegar;"
      ],
      "execution_count": null,
      "outputs": [
        {
          "output_type": "stream",
          "text": [
            "Comma-separated ingredients, semicolon to close the list >>> crust, baking_mix,garlic_powder, pepper, hot water, dough, tomato, basil, oregano, oil , garlic;\n"
          ],
          "name": "stdout"
        },
        {
          "output_type": "stream",
          "text": [
            " 61%|██████    | 469/768 [00:13<00:14, 20.76it/s]"
          ],
          "name": "stderr"
        },
        {
          "output_type": "stream",
          "text": [
            "breaking----->>\n"
          ],
          "name": "stdout"
        }
      ]
    },
    {
      "cell_type": "code",
      "metadata": {
        "colab": {
          "base_uri": "https://localhost:8080/"
        },
        "id": "zc_4gf1_CJy0",
        "outputId": "9e5096e7-ed0d-4074-b2a5-87afd22efba1"
      },
      "source": [
        "# formating and printing the generated recipe\n",
        "user_input = prepared_input\n",
        "user_input = user_input.replace('<BEGIN_RECIPE> <BEGIN_INPUT>', '## User inputs ##\\n    - ').replace('<NEXT_INPUT>', '\\n    -').replace('<END_INPUT>', '\\n------------------------\\n')\n",
        "generated_recipe = str(text.replace('<BEGIN_TITLE>', '## Recipe Name:- ##\\n').replace('<END_TITLE>', '\\n')) \\\n",
        "                        .replace('<BEGIN_INGREDS>', '\\n## Ingredients ##\\n    -').replace('<NEXT_INGREDS>', '\\n    -').replace('<END_INGREDS>', '\\n\\n') \\\n",
        "                        .replace('<BEGIN_INSTR>', '## Cooking instructions ##\\n    -').replace('.','.\\n    -').replace('<NEXT_INSTR>', '\\n    -').replace('- <END_INSTR>', '\\n\\n') \\\n",
        "                        .replace(' <END_RECIPE>', 'Voila Enjoy your recipe :)')\n",
        "                    \n",
        "\n",
        "print(user_input)\n",
        "print(generated_recipe)"
      ],
      "execution_count": null,
      "outputs": [
        {
          "output_type": "stream",
          "text": [
            "## User inputs ##\n",
            "    -  crust \n",
            "    -  baking_mix \n",
            "    - garlic_powder \n",
            "    -  pepper \n",
            "    -  hot water \n",
            "    -  dough \n",
            "    -  tomato \n",
            "    -  basil \n",
            "    -  oregano \n",
            "    -  oil  \n",
            "    -  garlic \n",
            "------------------------\n",
            "\n",
            "## Recipe Name:- ##\n",
            " Italian Meatballs With Tomatoes and Tomato \n",
            " \n",
            "## Ingredients ##\n",
            "    - garlic \n",
            "    - basil \n",
            "    - oregano \n",
            "    - sugar \n",
            "    - oregano_powder \n",
            "    - eggplant \n",
            "    - salt \n",
            "    - flour \n",
            "    - baking_mix \n",
            "    - oil \n",
            "    - dough \n",
            "    - hands \n",
            "    - hands \n",
            "    - plastic \n",
            "    - hands \n",
            "    - meatballs \n",
            "    - brown \n",
            "    - tomato \n",
            "    - crust \n",
            "\n",
            " ## Cooking instructions ##\n",
            "    - in a large bowl, blend the 1/4 cup garlic, basil, oregano, sugar, and oregano powder \n",
            "    - mix well.\n",
            "    - in another bowl, mix eggplant and salt into flour until lightly combined.\n",
            "    - in a clean bowl, mix the eggplant, salt, baking mix, oil, and 1 tbsp of the garlic herb oil with your hands until combined.\n",
            "    - add the dough to a lightly floured surface, and knead briefly with your hands.\n",
            "    - cover the bowl with plastic.\n",
            "    - put a heavy weight on top of the heavy object and turn the dough ball to allow it to rest by itself, without lifting it.\n",
            "    - punch the excess dough into about 1 1/2 inch balls and flatten slightly so the mixture is about 1/4 to 1/2 inch thick.\n",
            "    - place on a floured work surface.\n",
            "    - repeat with remaining meatballs and flour.\n",
            "    - lightly oil and flour 4 large baking sheets.\n",
            "    - working from one side, gently roll the dough balls into 1 inch balls.\n",
            "    - cover the pans with plastic and let rest while preparing the rest of the dough.\n",
            "    - preheat an oven to 350 degrees f.\n",
            "    - place the flour and salt in a food processor and grind with the machine on until you have a coarse crumbly paste \n",
            "    - set aside.\n",
            "    - heat enough oil in a medium saucepan over medium heat to shimmer and cook the garlic herb oil until fragrant, about 3 minutes.\n",
            "    - season the tomato with salt and mix it in well.\n",
            "    - remove the tomatoes from the pan from the oil \n",
            "    - pour about 1/4 cup of the oil into the saucepan, and gently stir in the reserved garlic herb oil to coat.\n",
            "    - scrape up the bottom of the pan, cover the pan, and cook the entire meatballs, about 7 minutes.\n",
            "    - pour the tomato mixture over the meatballs and turn them over.\n",
            "    - return cover to the pan and bring the beefballs to the table.\n",
            "    - bake in the preheated oven until the beefballs are brown and the crust is golden brown, 25 to 30 minutes.\n",
            "    \n",
            "\n",
            "Voila Enjoy your recipe :)\n"
          ],
          "name": "stdout"
        }
      ]
    }
  ]
}